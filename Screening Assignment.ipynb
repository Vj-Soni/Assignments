{
 "cells": [
  {
   "cell_type": "markdown",
   "metadata": {},
   "source": [
    "### Create a function in python to read the text file and replace specific content of the file"
   ]
  },
  {
   "cell_type": "code",
   "execution_count": 1,
   "metadata": {},
   "outputs": [
    {
     "name": "stdout",
     "output_type": "stream",
     "text": [
      "-------Before-----\n",
      "This is a placement assignment\n"
     ]
    }
   ],
   "source": [
    "'''\n",
    "reading content from file before replacing \"placement\" with \"screening\"\n",
    "'''\n",
    "with open('example.txt','r') as rf:\n",
    "    print(\"-------Before-----\")\n",
    "    print(rf.read())"
   ]
  },
  {
   "cell_type": "code",
   "execution_count": 2,
   "metadata": {},
   "outputs": [],
   "source": [
    "#replacing placement with screening\n",
    "def replaceContent(word):\n",
    "    with open('example.txt','r') as rf:\n",
    "        line = rf.readline()\n",
    "        with open('example.txt','w') as wf:\n",
    "                wf.write(line.replace('placement',word))"
   ]
  },
  {
   "cell_type": "code",
   "execution_count": 3,
   "metadata": {},
   "outputs": [],
   "source": [
    "replaceContent(\"screening\")"
   ]
  },
  {
   "cell_type": "code",
   "execution_count": 4,
   "metadata": {},
   "outputs": [
    {
     "name": "stdout",
     "output_type": "stream",
     "text": [
      "-------After-----\n",
      "This is a screening assignment\n"
     ]
    }
   ],
   "source": [
    "'''\n",
    "reading content from file after replacing \"placement\" with \"screening\"\n",
    "'''\n",
    "with open('example.txt','r') as rf:\n",
    "    print(\"-------After-----\")\n",
    "    print(rf.read())"
   ]
  },
  {
   "cell_type": "markdown",
   "metadata": {},
   "source": [
    "### Demonstrate use of abstract class, multiple inheritance and decorator in python"
   ]
  },
  {
   "cell_type": "code",
   "execution_count": 5,
   "metadata": {},
   "outputs": [],
   "source": [
    "from abc import ABC, abstractmethod"
   ]
  },
  {
   "cell_type": "markdown",
   "metadata": {},
   "source": [
    "This is abstract class named **Parent** it has 3 abstract method and one checkAge decorator"
   ]
  },
  {
   "cell_type": "code",
   "execution_count": 6,
   "metadata": {},
   "outputs": [],
   "source": [
    "#Abstract Class\n",
    "class Parent(ABC):\n",
    "    #abstract method\n",
    "    @abstractmethod\n",
    "    def gender(self,gender):\n",
    "        pass\n",
    "    @abstractmethod\n",
    "    def fullName(self,first_name,last_name):\n",
    "        pass\n",
    "    @abstractmethod\n",
    "    def age(self,age):\n",
    "        pass\n",
    "    \n",
    "    #decorator defination\n",
    "    def checkAge(original_func):\n",
    "        def wrapper(self,age):\n",
    "            if age>0:\n",
    "                return original_func(self,age)\n",
    "            else:\n",
    "                print(\"age should be greater than 0\")\n",
    "                return None \n",
    "        return wrapper"
   ]
  },
  {
   "cell_type": "markdown",
   "metadata": {},
   "source": [
    "- **Two class Father and Mother use this Parent abtract class hence they have to provide defination for abstract methods**"
   ]
  },
  {
   "cell_type": "code",
   "execution_count": 7,
   "metadata": {},
   "outputs": [],
   "source": [
    "class Father(Parent):\n",
    "    __gender = None\n",
    "    __fullname = None\n",
    "    __age = None\n",
    "    \n",
    "    #constructor for class\n",
    "    def __init__(self,first_name,last_name):\n",
    "        self.first_name=first_name\n",
    "        self.last_name=last_name\n",
    "        self.fullName= first_name+\" \"+last_name\n",
    "        \n",
    "    #using property decorator to make functions as class property and creating getter and setter\n",
    "    #getter for gender\n",
    "    @property\n",
    "    def gender(self):\n",
    "        return self.__gender\n",
    "    #setter for gender\n",
    "    @gender.setter\n",
    "    def gender(self,gender):\n",
    "        self.__gender=gender\n",
    "    \n",
    "    #getter for fullname\n",
    "    @property\n",
    "    def fullName(self):\n",
    "        return self.__fullname\n",
    "    \n",
    "    #setter for fullname\n",
    "    @fullName.setter\n",
    "    def fullName(self,name):\n",
    "        first,last = name.split(\" \")\n",
    "        self.__fullname = \"Mr. \"+ first+\" \"+last\n",
    "        \n",
    "    #getter for age\n",
    "    @property\n",
    "    def age(self):\n",
    "        return self.__age\n",
    "    \n",
    "    #setter for age\n",
    "    #checkAge is custom decorator which will check for valid age\n",
    "    @age.setter\n",
    "    @Parent.checkAge\n",
    "    def age(self,age):\n",
    "        self.__age=age\n",
    "        \n",
    "    \n",
    "    "
   ]
  },
  {
   "cell_type": "code",
   "execution_count": 8,
   "metadata": {},
   "outputs": [],
   "source": [
    "class Mother(Parent):\n",
    "    __gender = None\n",
    "    __fullname = None\n",
    "    __age = None\n",
    "    \n",
    "    #constructor for class\n",
    "    def __init__(self,first_name,last_name):\n",
    "        self.first_name=first_name\n",
    "        self.last_name=last_name\n",
    "        self.fullName= first_name+\" \"+last_name\n",
    "    \n",
    "    \n",
    "    #using property decorator to make functions as class property and creating getter and setter\n",
    "    #getter for gender\n",
    "    @property\n",
    "    def gender(self):\n",
    "        return self.__gender\n",
    "    \n",
    "    #setter for gender\n",
    "    @gender.setter\n",
    "    def gender(self,gender):\n",
    "        self.__gender=gender\n",
    "    \n",
    "    #getter for fullname\n",
    "    @property\n",
    "    def fullName(self):\n",
    "        return self.__fullname\n",
    "    \n",
    "    #setter for fullname\n",
    "    @fullName.setter\n",
    "    def fullName(self,name):\n",
    "        first,last = name.split(\" \")\n",
    "        self.__fullname = \"Mrs. \"+ first+\" \"+last\n",
    "        \n",
    "    #getter for age\n",
    "    @property\n",
    "    def age(self):\n",
    "        return self.__age\n",
    "    \n",
    "    #setter for age\n",
    "    #checkAge is custom decorator which will check for valid age\n",
    "    @age.setter\n",
    "    @Parent.checkAge\n",
    "    def age(self,age):\n",
    "        self.__age=age"
   ]
  },
  {
   "cell_type": "markdown",
   "metadata": {},
   "source": [
    "- **Below Son class uses multiple inheritance to inherit Father and Mother class and there properties and functionalities**"
   ]
  },
  {
   "cell_type": "code",
   "execution_count": 9,
   "metadata": {},
   "outputs": [],
   "source": [
    "class Son(Father,Mother):\n",
    "    __father = None\n",
    "    __mother = None\n",
    "    __gender = None\n",
    "    __fullname = None\n",
    "    __age = None\n",
    "    \n",
    "    #constructor for class\n",
    "    def __init__(self,first_name,last_name):\n",
    "        self.first_name=first_name\n",
    "        self.last_name=last_name\n",
    "        self.fullName= first_name+\" \"+last_name\n",
    "    \n",
    "    #using property decorator to make functions as class property and creating getter and setter\n",
    "    #getter for fathername\n",
    "    @property\n",
    "    def fatherName(self):\n",
    "        return self.__father.fullName\n",
    "    \n",
    "    #setter for fathername\n",
    "    @fatherName.setter\n",
    "    def fatherName(self,name):\n",
    "        first,last = name.split(\" \")\n",
    "        self.__father = Father(first,last)\n",
    "        \n",
    "        \n",
    "    #getter for mothername    \n",
    "    @property\n",
    "    def motherName(self):\n",
    "        return self.__mother.fullName\n",
    "    \n",
    "    #setter for mothername\n",
    "    @motherName.setter\n",
    "    def motherName(self,name):\n",
    "        first,last = name.split(\" \")\n",
    "        self.__mother = Mother(first,last)\n",
    "        \n",
    "    #getter for mother age\n",
    "    @property\n",
    "    def motherAge(self):\n",
    "        return self.__mother.age\n",
    "    \n",
    "    #setter for mother age\n",
    "    @motherAge.setter\n",
    "    def motherAge(self,age):\n",
    "        self.__mother.age=age\n",
    "    \n",
    "    #getter for father age\n",
    "    @property\n",
    "    def fatherAge(self):\n",
    "        return self.__father.age\n",
    "    \n",
    "    #setter for father age\n",
    "    @fatherAge.setter\n",
    "    def fatherAge(self,age):\n",
    "        self.__father.age=age\n",
    "    \n",
    "    "
   ]
  },
  {
   "cell_type": "markdown",
   "metadata": {},
   "source": [
    "- creating object and testing functionality of classes below"
   ]
  },
  {
   "cell_type": "code",
   "execution_count": 10,
   "metadata": {},
   "outputs": [],
   "source": [
    "#creating son object\n",
    "son = Son(\"Aryan\",\"Khan\")"
   ]
  },
  {
   "cell_type": "code",
   "execution_count": 11,
   "metadata": {},
   "outputs": [
    {
     "data": {
      "text/plain": [
       "'Mr. Aryan Khan'"
      ]
     },
     "execution_count": 11,
     "metadata": {},
     "output_type": "execute_result"
    }
   ],
   "source": [
    "#getting son fullname\n",
    "son.fullName"
   ]
  },
  {
   "cell_type": "code",
   "execution_count": 12,
   "metadata": {},
   "outputs": [],
   "source": [
    "#setting fathe name\n",
    "son.fatherName=\"Sharukh Khan\""
   ]
  },
  {
   "cell_type": "code",
   "execution_count": 13,
   "metadata": {},
   "outputs": [
    {
     "data": {
      "text/plain": [
       "'Mr. Sharukh Khan'"
      ]
     },
     "execution_count": 13,
     "metadata": {},
     "output_type": "execute_result"
    }
   ],
   "source": [
    "#getting father name\n",
    "son.fatherName"
   ]
  },
  {
   "cell_type": "code",
   "execution_count": 14,
   "metadata": {},
   "outputs": [
    {
     "data": {
      "text/plain": [
       "'Mrs. Gauri Khan'"
      ]
     },
     "execution_count": 14,
     "metadata": {},
     "output_type": "execute_result"
    }
   ],
   "source": [
    "#setting and getting mother name\n",
    "son.motherName=\"Gauri Khan\"\n",
    "son.motherName"
   ]
  },
  {
   "cell_type": "code",
   "execution_count": 15,
   "metadata": {},
   "outputs": [
    {
     "data": {
      "text/plain": [
       "15"
      ]
     },
     "execution_count": 15,
     "metadata": {},
     "output_type": "execute_result"
    }
   ],
   "source": [
    "#setting and getting son age\n",
    "son.age=15\n",
    "son.age"
   ]
  },
  {
   "cell_type": "code",
   "execution_count": 16,
   "metadata": {},
   "outputs": [
    {
     "data": {
      "text/plain": [
       "45"
      ]
     },
     "execution_count": 16,
     "metadata": {},
     "output_type": "execute_result"
    }
   ],
   "source": [
    "'''father age is in positive and valid so it will set the age to 45'''\n",
    "son.fatherAge=45\n",
    "\n",
    "son.fatherAge"
   ]
  },
  {
   "cell_type": "markdown",
   "metadata": {},
   "source": [
    "Age function uses **checkAge decorator** to check if age given is valid or not which is above 0 or not"
   ]
  },
  {
   "cell_type": "code",
   "execution_count": 17,
   "metadata": {},
   "outputs": [
    {
     "name": "stdout",
     "output_type": "stream",
     "text": [
      "age should be greater than 0\n"
     ]
    }
   ],
   "source": [
    "'''age is given in negative hence it will not set age for mother'''\n",
    "son.motherAge=-30"
   ]
  },
  {
   "cell_type": "code",
   "execution_count": 18,
   "metadata": {},
   "outputs": [],
   "source": [
    "son.motherAge"
   ]
  },
  {
   "cell_type": "code",
   "execution_count": null,
   "metadata": {},
   "outputs": [],
   "source": []
  }
 ],
 "metadata": {
  "kernelspec": {
   "display_name": "Python 3",
   "language": "python",
   "name": "python3"
  },
  "language_info": {
   "codemirror_mode": {
    "name": "ipython",
    "version": 3
   },
   "file_extension": ".py",
   "mimetype": "text/x-python",
   "name": "python",
   "nbconvert_exporter": "python",
   "pygments_lexer": "ipython3",
   "version": "3.7.6"
  }
 },
 "nbformat": 4,
 "nbformat_minor": 4
}
